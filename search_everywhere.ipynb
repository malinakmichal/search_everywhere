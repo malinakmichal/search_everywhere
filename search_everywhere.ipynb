{
 "cells": [
  {
   "cell_type": "code",
   "execution_count": null,
   "metadata": {},
   "outputs": [],
   "source": [
    "import pandas as pd\n",
    "import json\n",
    "import matplotlib.pyplot as plt\n",
    "from scipy import stats"
   ]
  },
  {
   "cell_type": "code",
   "execution_count": 3,
   "metadata": {},
   "outputs": [],
   "source": [
    "data = pd.read_csv(\"2024InternshipData.csv\")"
   ]
  },
  {
   "cell_type": "code",
   "execution_count": 4,
   "metadata": {},
   "outputs": [
    {
     "data": {
      "text/html": [
       "<div>\n",
       "<style scoped>\n",
       "    .dataframe tbody tr th:only-of-type {\n",
       "        vertical-align: middle;\n",
       "    }\n",
       "\n",
       "    .dataframe tbody tr th {\n",
       "        vertical-align: top;\n",
       "    }\n",
       "\n",
       "    .dataframe thead th {\n",
       "        text-align: right;\n",
       "    }\n",
       "</style>\n",
       "<table border=\"1\" class=\"dataframe\">\n",
       "  <thead>\n",
       "    <tr style=\"text-align: right;\">\n",
       "      <th></th>\n",
       "      <th>time_epoch</th>\n",
       "      <th>device_id</th>\n",
       "      <th>event_data</th>\n",
       "      <th>event_id</th>\n",
       "    </tr>\n",
       "  </thead>\n",
       "  <tbody>\n",
       "    <tr>\n",
       "      <th>0</th>\n",
       "      <td>1.699911e+12</td>\n",
       "      <td>9476ff0ed144326d4a58e066f6fefdcc</td>\n",
       "      <td>{\"session_id\": \"65ba8f8e3a23c60ec6a8d6e83e6ad2...</td>\n",
       "      <td>searchRestarted</td>\n",
       "    </tr>\n",
       "    <tr>\n",
       "      <th>1</th>\n",
       "      <td>1.699911e+12</td>\n",
       "      <td>9476ff0ed144326d4a58e066f6fefdcc</td>\n",
       "      <td>{\"session_id\": \"65ba8f8e3a23c60ec6a8d6e83e6ad2...</td>\n",
       "      <td>searchRestarted</td>\n",
       "    </tr>\n",
       "    <tr>\n",
       "      <th>2</th>\n",
       "      <td>1.699911e+12</td>\n",
       "      <td>9476ff0ed144326d4a58e066f6fefdcc</td>\n",
       "      <td>{\"session_id\": \"65ba8f8e3a23c60ec6a8d6e83e6ad2...</td>\n",
       "      <td>searchRestarted</td>\n",
       "    </tr>\n",
       "    <tr>\n",
       "      <th>3</th>\n",
       "      <td>1.699911e+12</td>\n",
       "      <td>9476ff0ed144326d4a58e066f6fefdcc</td>\n",
       "      <td>{\"session_id\": \"65ba8f8e3a23c60ec6a8d6e83e6ad2...</td>\n",
       "      <td>searchRestarted</td>\n",
       "    </tr>\n",
       "    <tr>\n",
       "      <th>4</th>\n",
       "      <td>1.699911e+12</td>\n",
       "      <td>9476ff0ed144326d4a58e066f6fefdcc</td>\n",
       "      <td>{\"session_id\": \"65ba8f8e3a23c60ec6a8d6e83e6ad2...</td>\n",
       "      <td>sessionFinished</td>\n",
       "    </tr>\n",
       "  </tbody>\n",
       "</table>\n",
       "</div>"
      ],
      "text/plain": [
       "     time_epoch                         device_id  \\\n",
       "0  1.699911e+12  9476ff0ed144326d4a58e066f6fefdcc   \n",
       "1  1.699911e+12  9476ff0ed144326d4a58e066f6fefdcc   \n",
       "2  1.699911e+12  9476ff0ed144326d4a58e066f6fefdcc   \n",
       "3  1.699911e+12  9476ff0ed144326d4a58e066f6fefdcc   \n",
       "4  1.699911e+12  9476ff0ed144326d4a58e066f6fefdcc   \n",
       "\n",
       "                                          event_data         event_id  \n",
       "0  {\"session_id\": \"65ba8f8e3a23c60ec6a8d6e83e6ad2...  searchRestarted  \n",
       "1  {\"session_id\": \"65ba8f8e3a23c60ec6a8d6e83e6ad2...  searchRestarted  \n",
       "2  {\"session_id\": \"65ba8f8e3a23c60ec6a8d6e83e6ad2...  searchRestarted  \n",
       "3  {\"session_id\": \"65ba8f8e3a23c60ec6a8d6e83e6ad2...  searchRestarted  \n",
       "4  {\"session_id\": \"65ba8f8e3a23c60ec6a8d6e83e6ad2...  sessionFinished  "
      ]
     },
     "execution_count": 4,
     "metadata": {},
     "output_type": "execute_result"
    }
   ],
   "source": [
    "data.head()"
   ]
  },
  {
   "cell_type": "code",
   "execution_count": 5,
   "metadata": {},
   "outputs": [
    {
     "data": {
      "text/plain": [
       "(107344, 4)"
      ]
     },
     "execution_count": 5,
     "metadata": {},
     "output_type": "execute_result"
    }
   ],
   "source": [
    "data.shape"
   ]
  },
  {
   "cell_type": "code",
   "execution_count": 6,
   "metadata": {},
   "outputs": [
    {
     "data": {
      "text/plain": [
       "time_epoch    float64\n",
       "device_id      object\n",
       "event_data     object\n",
       "event_id       object\n",
       "dtype: object"
      ]
     },
     "execution_count": 6,
     "metadata": {},
     "output_type": "execute_result"
    }
   ],
   "source": [
    "data.dtypes"
   ]
  },
  {
   "cell_type": "code",
   "execution_count": 7,
   "metadata": {},
   "outputs": [
    {
     "data": {
      "text/plain": [
       "time_epoch    107344\n",
       "device_id       1514\n",
       "event_data    107344\n",
       "event_id           2\n",
       "dtype: int64"
      ]
     },
     "execution_count": 7,
     "metadata": {},
     "output_type": "execute_result"
    }
   ],
   "source": [
    "data.nunique()"
   ]
  },
  {
   "cell_type": "code",
   "execution_count": null,
   "metadata": {},
   "outputs": [],
   "source": [
    "def to_dict(row):\n",
    "    return json.loads(row['event_data'])\n",
    "\n",
    "# creates new column containing data from 'event_data' column (dictionary)\n",
    "data['event_data_dict'] = data.apply(to_dict, axis=1)"
   ]
  },
  {
   "cell_type": "code",
   "execution_count": null,
   "metadata": {},
   "outputs": [],
   "source": [
    "# concatenates former dataset with data from 'event_data' dictionary\n",
    "data_json = data['event_data_dict'].apply(pd.Series)\n",
    "expanded_data = pd.concat([data.drop(columns=['event_data', 'event_data_dict']), data_json], axis=1)"
   ]
  },
  {
   "cell_type": "code",
   "execution_count": null,
   "metadata": {},
   "outputs": [],
   "source": [
    "expanded_data['queryLength'] = expanded_data['searchStateFeatures'].apply(lambda x: x.get('queryLength'))"
   ]
  },
  {
   "cell_type": "code",
   "execution_count": 47,
   "metadata": {},
   "outputs": [
    {
     "data": {
      "text/html": [
       "<div>\n",
       "<style scoped>\n",
       "    .dataframe tbody tr th:only-of-type {\n",
       "        vertical-align: middle;\n",
       "    }\n",
       "\n",
       "    .dataframe tbody tr th {\n",
       "        vertical-align: top;\n",
       "    }\n",
       "\n",
       "    .dataframe thead th {\n",
       "        text-align: right;\n",
       "    }\n",
       "</style>\n",
       "<table border=\"1\" class=\"dataframe\">\n",
       "  <thead>\n",
       "    <tr style=\"text-align: right;\">\n",
       "      <th></th>\n",
       "      <th>time_epoch</th>\n",
       "      <th>device_id</th>\n",
       "      <th>event_id</th>\n",
       "      <th>session_id</th>\n",
       "      <th>experimentGroup</th>\n",
       "      <th>searchStateFeatures</th>\n",
       "      <th>selectedIndexes</th>\n",
       "      <th>eventIndex</th>\n",
       "      <th>queryLength</th>\n",
       "    </tr>\n",
       "  </thead>\n",
       "  <tbody>\n",
       "    <tr>\n",
       "      <th>0</th>\n",
       "      <td>1.699911e+12</td>\n",
       "      <td>9476ff0ed144326d4a58e066f6fefdcc</td>\n",
       "      <td>searchRestarted</td>\n",
       "      <td>65ba8f8e3a23c60ec6a8d6e83e6ad252</td>\n",
       "      <td>1</td>\n",
       "      <td>{'queryLength': 11}</td>\n",
       "      <td>None</td>\n",
       "      <td>0</td>\n",
       "      <td>11</td>\n",
       "    </tr>\n",
       "    <tr>\n",
       "      <th>1</th>\n",
       "      <td>1.699911e+12</td>\n",
       "      <td>9476ff0ed144326d4a58e066f6fefdcc</td>\n",
       "      <td>searchRestarted</td>\n",
       "      <td>65ba8f8e3a23c60ec6a8d6e83e6ad252</td>\n",
       "      <td>1</td>\n",
       "      <td>{'queryLength': 12}</td>\n",
       "      <td>None</td>\n",
       "      <td>1</td>\n",
       "      <td>12</td>\n",
       "    </tr>\n",
       "    <tr>\n",
       "      <th>2</th>\n",
       "      <td>1.699911e+12</td>\n",
       "      <td>9476ff0ed144326d4a58e066f6fefdcc</td>\n",
       "      <td>searchRestarted</td>\n",
       "      <td>65ba8f8e3a23c60ec6a8d6e83e6ad252</td>\n",
       "      <td>1</td>\n",
       "      <td>{'queryLength': 13}</td>\n",
       "      <td>None</td>\n",
       "      <td>2</td>\n",
       "      <td>13</td>\n",
       "    </tr>\n",
       "    <tr>\n",
       "      <th>3</th>\n",
       "      <td>1.699911e+12</td>\n",
       "      <td>9476ff0ed144326d4a58e066f6fefdcc</td>\n",
       "      <td>searchRestarted</td>\n",
       "      <td>65ba8f8e3a23c60ec6a8d6e83e6ad252</td>\n",
       "      <td>1</td>\n",
       "      <td>{'queryLength': 14}</td>\n",
       "      <td>None</td>\n",
       "      <td>3</td>\n",
       "      <td>14</td>\n",
       "    </tr>\n",
       "    <tr>\n",
       "      <th>4</th>\n",
       "      <td>1.699911e+12</td>\n",
       "      <td>9476ff0ed144326d4a58e066f6fefdcc</td>\n",
       "      <td>sessionFinished</td>\n",
       "      <td>65ba8f8e3a23c60ec6a8d6e83e6ad252</td>\n",
       "      <td>1</td>\n",
       "      <td>{'queryLength': 13}</td>\n",
       "      <td>[0]</td>\n",
       "      <td>4</td>\n",
       "      <td>13</td>\n",
       "    </tr>\n",
       "    <tr>\n",
       "      <th>5</th>\n",
       "      <td>1.699912e+12</td>\n",
       "      <td>c4b38243f41f4f3231ddc0360054cba4</td>\n",
       "      <td>searchRestarted</td>\n",
       "      <td>8d5a293be816112b74b32209dbdcac51</td>\n",
       "      <td>1</td>\n",
       "      <td>{'queryLength': 0}</td>\n",
       "      <td>None</td>\n",
       "      <td>0</td>\n",
       "      <td>0</td>\n",
       "    </tr>\n",
       "    <tr>\n",
       "      <th>6</th>\n",
       "      <td>1.699912e+12</td>\n",
       "      <td>c4b38243f41f4f3231ddc0360054cba4</td>\n",
       "      <td>searchRestarted</td>\n",
       "      <td>8d5a293be816112b74b32209dbdcac51</td>\n",
       "      <td>1</td>\n",
       "      <td>{'queryLength': 1}</td>\n",
       "      <td>None</td>\n",
       "      <td>1</td>\n",
       "      <td>1</td>\n",
       "    </tr>\n",
       "    <tr>\n",
       "      <th>7</th>\n",
       "      <td>1.699912e+12</td>\n",
       "      <td>c4b38243f41f4f3231ddc0360054cba4</td>\n",
       "      <td>searchRestarted</td>\n",
       "      <td>8d5a293be816112b74b32209dbdcac51</td>\n",
       "      <td>1</td>\n",
       "      <td>{'queryLength': 2}</td>\n",
       "      <td>None</td>\n",
       "      <td>2</td>\n",
       "      <td>2</td>\n",
       "    </tr>\n",
       "    <tr>\n",
       "      <th>8</th>\n",
       "      <td>1.699912e+12</td>\n",
       "      <td>c4b38243f41f4f3231ddc0360054cba4</td>\n",
       "      <td>searchRestarted</td>\n",
       "      <td>8d5a293be816112b74b32209dbdcac51</td>\n",
       "      <td>1</td>\n",
       "      <td>{'queryLength': 1}</td>\n",
       "      <td>None</td>\n",
       "      <td>3</td>\n",
       "      <td>1</td>\n",
       "    </tr>\n",
       "    <tr>\n",
       "      <th>9</th>\n",
       "      <td>1.699912e+12</td>\n",
       "      <td>c4b38243f41f4f3231ddc0360054cba4</td>\n",
       "      <td>searchRestarted</td>\n",
       "      <td>8d5a293be816112b74b32209dbdcac51</td>\n",
       "      <td>1</td>\n",
       "      <td>{'queryLength': 2}</td>\n",
       "      <td>None</td>\n",
       "      <td>4</td>\n",
       "      <td>2</td>\n",
       "    </tr>\n",
       "  </tbody>\n",
       "</table>\n",
       "</div>"
      ],
      "text/plain": [
       "     time_epoch                         device_id         event_id  \\\n",
       "0  1.699911e+12  9476ff0ed144326d4a58e066f6fefdcc  searchRestarted   \n",
       "1  1.699911e+12  9476ff0ed144326d4a58e066f6fefdcc  searchRestarted   \n",
       "2  1.699911e+12  9476ff0ed144326d4a58e066f6fefdcc  searchRestarted   \n",
       "3  1.699911e+12  9476ff0ed144326d4a58e066f6fefdcc  searchRestarted   \n",
       "4  1.699911e+12  9476ff0ed144326d4a58e066f6fefdcc  sessionFinished   \n",
       "5  1.699912e+12  c4b38243f41f4f3231ddc0360054cba4  searchRestarted   \n",
       "6  1.699912e+12  c4b38243f41f4f3231ddc0360054cba4  searchRestarted   \n",
       "7  1.699912e+12  c4b38243f41f4f3231ddc0360054cba4  searchRestarted   \n",
       "8  1.699912e+12  c4b38243f41f4f3231ddc0360054cba4  searchRestarted   \n",
       "9  1.699912e+12  c4b38243f41f4f3231ddc0360054cba4  searchRestarted   \n",
       "\n",
       "                         session_id  experimentGroup  searchStateFeatures  \\\n",
       "0  65ba8f8e3a23c60ec6a8d6e83e6ad252                1  {'queryLength': 11}   \n",
       "1  65ba8f8e3a23c60ec6a8d6e83e6ad252                1  {'queryLength': 12}   \n",
       "2  65ba8f8e3a23c60ec6a8d6e83e6ad252                1  {'queryLength': 13}   \n",
       "3  65ba8f8e3a23c60ec6a8d6e83e6ad252                1  {'queryLength': 14}   \n",
       "4  65ba8f8e3a23c60ec6a8d6e83e6ad252                1  {'queryLength': 13}   \n",
       "5  8d5a293be816112b74b32209dbdcac51                1   {'queryLength': 0}   \n",
       "6  8d5a293be816112b74b32209dbdcac51                1   {'queryLength': 1}   \n",
       "7  8d5a293be816112b74b32209dbdcac51                1   {'queryLength': 2}   \n",
       "8  8d5a293be816112b74b32209dbdcac51                1   {'queryLength': 1}   \n",
       "9  8d5a293be816112b74b32209dbdcac51                1   {'queryLength': 2}   \n",
       "\n",
       "  selectedIndexes  eventIndex  queryLength  \n",
       "0            None           0           11  \n",
       "1            None           1           12  \n",
       "2            None           2           13  \n",
       "3            None           3           14  \n",
       "4             [0]           4           13  \n",
       "5            None           0            0  \n",
       "6            None           1            1  \n",
       "7            None           2            2  \n",
       "8            None           3            1  \n",
       "9            None           4            2  "
      ]
     },
     "execution_count": 47,
     "metadata": {},
     "output_type": "execute_result"
    }
   ],
   "source": [
    "expanded_data.head(10)"
   ]
  },
  {
   "cell_type": "code",
   "execution_count": null,
   "metadata": {},
   "outputs": [],
   "source": [
    "# groups data by 'device_id' and 'session_id' (unique for every session)\n",
    "expanded_grouped = expanded_data.groupby(['device_id', 'session_id'], as_index=False)\n",
    "expanded_grouped = expanded_grouped.agg({'selectedIndexes': 'sum', 'time_epoch': ['min', 'max'], 'queryLength': 'mean', 'experimentGroup': 'min'})\n",
    "\n",
    "expanded_grouped['time_spent'] = expanded_grouped['time_epoch']['max'] - expanded_grouped['time_epoch']['min']\n",
    "expanded_grouped = expanded_grouped.drop(['time_epoch'], axis=1)"
   ]
  },
  {
   "cell_type": "code",
   "execution_count": null,
   "metadata": {},
   "outputs": [],
   "source": [
    "# converts list containing one element to number (if empty number is equal to 100 - no result found)\n",
    "\n",
    "def get_number(row):\n",
    "    if row['selectedIndexes'].iloc[0]  == 0:\n",
    "        return 100\n",
    "    return row['selectedIndexes'].iloc[0][0]\n",
    "\n",
    "expanded_grouped['selectedIndexes'] = expanded_grouped.apply(get_number, axis=1)"
   ]
  },
  {
   "cell_type": "code",
   "execution_count": 60,
   "metadata": {},
   "outputs": [
    {
     "data": {
      "text/html": [
       "<div>\n",
       "<style scoped>\n",
       "    .dataframe tbody tr th:only-of-type {\n",
       "        vertical-align: middle;\n",
       "    }\n",
       "\n",
       "    .dataframe tbody tr th {\n",
       "        vertical-align: top;\n",
       "    }\n",
       "\n",
       "    .dataframe thead tr th {\n",
       "        text-align: left;\n",
       "    }\n",
       "</style>\n",
       "<table border=\"1\" class=\"dataframe\">\n",
       "  <thead>\n",
       "    <tr>\n",
       "      <th></th>\n",
       "      <th>device_id</th>\n",
       "      <th>session_id</th>\n",
       "      <th>selectedIndexes</th>\n",
       "      <th>queryLength</th>\n",
       "      <th>experimentGroup</th>\n",
       "      <th>time_spent</th>\n",
       "    </tr>\n",
       "    <tr>\n",
       "      <th></th>\n",
       "      <th></th>\n",
       "      <th></th>\n",
       "      <th>sum</th>\n",
       "      <th>mean</th>\n",
       "      <th>min</th>\n",
       "      <th></th>\n",
       "    </tr>\n",
       "  </thead>\n",
       "  <tbody>\n",
       "    <tr>\n",
       "      <th>0</th>\n",
       "      <td>0028cb12f73a5dee7cab800eea52877c</td>\n",
       "      <td>020f4452e355059af19f0a913d031778</td>\n",
       "      <td>11</td>\n",
       "      <td>1.500000</td>\n",
       "      <td>1</td>\n",
       "      <td>3.423420e+12</td>\n",
       "    </tr>\n",
       "    <tr>\n",
       "      <th>1</th>\n",
       "      <td>0028cb12f73a5dee7cab800eea52877c</td>\n",
       "      <td>22deb7b020cde724c2c0cc25b656286b</td>\n",
       "      <td>100</td>\n",
       "      <td>9.000000</td>\n",
       "      <td>1</td>\n",
       "      <td>3.421788e+12</td>\n",
       "    </tr>\n",
       "    <tr>\n",
       "      <th>2</th>\n",
       "      <td>0028cb12f73a5dee7cab800eea52877c</td>\n",
       "      <td>30ea57e277bf1e838fd73e4d14a50811</td>\n",
       "      <td>2</td>\n",
       "      <td>5.200000</td>\n",
       "      <td>1</td>\n",
       "      <td>3.415321e+12</td>\n",
       "    </tr>\n",
       "    <tr>\n",
       "      <th>3</th>\n",
       "      <td>0028cb12f73a5dee7cab800eea52877c</td>\n",
       "      <td>46ca22e8a357ad78a3091b237fec8f39</td>\n",
       "      <td>5</td>\n",
       "      <td>31.000000</td>\n",
       "      <td>1</td>\n",
       "      <td>3.433381e+12</td>\n",
       "    </tr>\n",
       "    <tr>\n",
       "      <th>4</th>\n",
       "      <td>0028cb12f73a5dee7cab800eea52877c</td>\n",
       "      <td>558a257eb566f98de09bb9b42ed57cf4</td>\n",
       "      <td>0</td>\n",
       "      <td>4.444444</td>\n",
       "      <td>1</td>\n",
       "      <td>3.413331e+12</td>\n",
       "    </tr>\n",
       "  </tbody>\n",
       "</table>\n",
       "</div>"
      ],
      "text/plain": [
       "                          device_id                        session_id  \\\n",
       "                                                                        \n",
       "0  0028cb12f73a5dee7cab800eea52877c  020f4452e355059af19f0a913d031778   \n",
       "1  0028cb12f73a5dee7cab800eea52877c  22deb7b020cde724c2c0cc25b656286b   \n",
       "2  0028cb12f73a5dee7cab800eea52877c  30ea57e277bf1e838fd73e4d14a50811   \n",
       "3  0028cb12f73a5dee7cab800eea52877c  46ca22e8a357ad78a3091b237fec8f39   \n",
       "4  0028cb12f73a5dee7cab800eea52877c  558a257eb566f98de09bb9b42ed57cf4   \n",
       "\n",
       "  selectedIndexes queryLength experimentGroup    time_spent  \n",
       "              sum        mean             min                \n",
       "0              11    1.500000               1  3.423420e+12  \n",
       "1             100    9.000000               1  3.421788e+12  \n",
       "2               2    5.200000               1  3.415321e+12  \n",
       "3               5   31.000000               1  3.433381e+12  \n",
       "4               0    4.444444               1  3.413331e+12  "
      ]
     },
     "execution_count": 60,
     "metadata": {},
     "output_type": "execute_result"
    }
   ],
   "source": [
    "expanded_grouped.head()"
   ]
  },
  {
   "cell_type": "code",
   "execution_count": null,
   "metadata": {},
   "outputs": [],
   "source": [
    "# creates dataframe from each experiment group\n",
    "group0_grouped = expanded_grouped[expanded_grouped['experimentGroup']['min'] == 0].drop(\"experimentGroup\", axis=1)\n",
    "group1_grouped = expanded_grouped[expanded_grouped['experimentGroup']['min'] == 1].drop(\"experimentGroup\", axis=1)"
   ]
  },
  {
   "cell_type": "markdown",
   "metadata": {},
   "source": [
    "### Correlation among various metrics"
   ]
  },
  {
   "cell_type": "code",
   "execution_count": null,
   "metadata": {},
   "outputs": [],
   "source": [
    "# calculating correlation among metrics for group zero\n",
    "correlation0_1 = group0_grouped['selectedIndexes']['sum'].corr(group0_grouped['queryLength']['mean'], method='pearson')\n",
    "correlation0_2 = group0_grouped['selectedIndexes']['sum'].corr(group0_grouped['time_spent'], method='pearson')\n",
    "correlation0_3 = group0_grouped['time_spent'].corr(group0_grouped['queryLength']['mean'], method='pearson')"
   ]
  },
  {
   "cell_type": "code",
   "execution_count": null,
   "metadata": {},
   "outputs": [],
   "source": [
    "# calculating correlation among metrics for group one\n",
    "correlation1_1 = group1_grouped['selectedIndexes']['sum'].corr(group1_grouped['queryLength']['mean'], method='pearson')\n",
    "correlation1_2 = group1_grouped['selectedIndexes']['sum'].corr(group1_grouped['time_spent'], method='pearson')\n",
    "correlation1_3 = group1_grouped['time_spent'].corr(group1_grouped['queryLength']['mean'], method='pearson')"
   ]
  },
  {
   "cell_type": "code",
   "execution_count": 74,
   "metadata": {},
   "outputs": [
    {
     "name": "stdout",
     "output_type": "stream",
     "text": [
      "Correlation between 'selectedIndexes' and 'queryLength' in the experiment group zero is 0.01\n",
      "Correlation between 'selectedIndexes' and 'time_spent' in the experiment group zero is -0.0\n",
      "Correlation between 'time_spent' and 'queryLength' in the experiment group zero is -0.01\n",
      "\n",
      "Correlation between 'selectedIndexes' and 'queryLength' in the experiment group one is -0.01\n",
      "Correlation between 'selectedIndexes' and 'time_spent' in the experiment group one is -0.01\n",
      "Correlation between 'time_spent' and 'queryLength' in the experiment group one is 0.01\n"
     ]
    }
   ],
   "source": [
    "print(f\"Correlation between 'selectedIndexes' and 'queryLength' in the experiment group zero is {round(correlation0_1.item(), 2)}\")\n",
    "print(f\"Correlation between 'selectedIndexes' and 'time_spent' in the experiment group zero is {round(correlation0_2.item(), 2)}\")\n",
    "print(f\"Correlation between 'time_spent' and 'queryLength' in the experiment group zero is {round(correlation0_3.item(), 2)}\")\n",
    "print()\n",
    "print(f\"Correlation between 'selectedIndexes' and 'queryLength' in the experiment group one is {round(correlation1_1.item(), 2)}\")\n",
    "print(f\"Correlation between 'selectedIndexes' and 'time_spent' in the experiment group one is {round(correlation1_2.item(), 2)}\")\n",
    "print(f\"Correlation between 'time_spent' and 'queryLength' in the experiment group one is {round(correlation1_3.item(), 2)}\")"
   ]
  },
  {
   "cell_type": "code",
   "execution_count": 24,
   "metadata": {},
   "outputs": [],
   "source": [
    "data_plot0 = group0_grouped[(group0_grouped['selectedIndexes']['sum'] < 100) & (group0_grouped['queryLength']['mean'] < 100)]\n",
    "data_plot1 = group1_grouped[(group1_grouped['selectedIndexes']['sum'] < 100) & (group1_grouped['queryLength']['mean'] < 100)]"
   ]
  },
  {
   "cell_type": "code",
   "execution_count": 25,
   "metadata": {},
   "outputs": [
    {
     "data": {
      "image/png": "[encoded data removed]",
      "text/plain": [
       "<Figure size 1200x600 with 1 Axes>"
      ]
     },
     "metadata": {},
     "output_type": "display_data"
    }
   ],
   "source": [
    "plt.figure(figsize=(12, 6))\n",
    "plt.scatter(data_plot0['queryLength']['mean'], data_plot0['selectedIndexes']['sum'], color='black', marker='o')\n",
    "plt.xlabel('queryLength')\n",
    "plt.ylabel('selectedIndexes')\n",
    "plt.show()\n"
   ]
  },
  {
   "cell_type": "code",
   "execution_count": 26,
   "metadata": {},
   "outputs": [
    {
     "data": {
      "image/png": "[encoded data removed]",
      "text/plain": [
       "<Figure size 1200x600 with 1 Axes>"
      ]
     },
     "metadata": {},
     "output_type": "display_data"
    }
   ],
   "source": [
    "plt.figure(figsize=(12, 6))\n",
    "plt.scatter(data_plot1['queryLength']['mean'], data_plot1['time_spent'], color='black', marker='o')\n",
    "plt.xlabel('queryLength')\n",
    "plt.ylabel('time_spent')\n",
    "plt.show()"
   ]
  },
  {
   "cell_type": "markdown",
   "metadata": {},
   "source": [
    "as we can see both the Pearson correlation test and the graphs does not show any correlation among time spent searching, number of selected index and query length"
   ]
  },
  {
   "cell_type": "markdown",
   "metadata": {},
   "source": [
    "### Mean and median"
   ]
  },
  {
   "cell_type": "markdown",
   "metadata": {},
   "source": [
    "#### Query length mean test\n",
    "\n",
    "We want our model to produce relevant results without requiring too many input characters."
   ]
  },
  {
   "cell_type": "markdown",
   "metadata": {},
   "source": [
    "Null Hypothesis (H0): There is no difference in query length means between the two experiment groups (𝜇1 = 𝜇2)\n",
    "\n",
    "Alternative Hypothesis (Ha): There is a difference in query length means between the two experiment groups (𝜇1 != 𝜇2)\n",
    "\n",
    "significance level α=0.05"
   ]
  },
  {
   "cell_type": "code",
   "execution_count": 84,
   "metadata": {},
   "outputs": [
    {
     "name": "stdout",
     "output_type": "stream",
     "text": [
      "P-value is equal to 0.199\n"
     ]
    }
   ],
   "source": [
    "t_stat, p_value = stats.ttest_ind(data_plot0['queryLength']['mean'], data_plot1['queryLength']['mean'])\n",
    "print(f\"P-value is equal to {round(p_value, 3)}\")"
   ]
  },
  {
   "cell_type": "markdown",
   "metadata": {},
   "source": [
    "A p-value of 0.199 is greater than α=0.05, so we cannot reject null hypothesis -> there is no evidence to suggest that the two groups have different query length means"
   ]
  },
  {
   "cell_type": "markdown",
   "metadata": {},
   "source": [
    "#### Selected index mean test\n",
    "\n",
    "We want our model to place the most relevant search items at the top, so the mean of selected indexes should be low (ideally 0, indicating the top search result was clicked)."
   ]
  },
  {
   "cell_type": "markdown",
   "metadata": {},
   "source": [
    "Null Hypothesis (H0): There is no difference in selected index means between the two experiment groups (𝜇1 = 𝜇2)\n",
    "\n",
    "Alternative Hypothesis (Ha): There is a difference in selected index means between the two experiment groups (𝜇1 != 𝜇2)\n",
    "\n",
    "significance level α=0.05"
   ]
  },
  {
   "cell_type": "code",
   "execution_count": 85,
   "metadata": {},
   "outputs": [
    {
     "name": "stdout",
     "output_type": "stream",
     "text": [
      "P-value is equal to 0.0\n"
     ]
    }
   ],
   "source": [
    "t_stat, p_value = stats.ttest_ind(data_plot0['selectedIndexes']['sum'], data_plot1['selectedIndexes']['sum'])\n",
    "print(f\"P-value is equal to {round(p_value, 3)}\")"
   ]
  },
  {
   "cell_type": "markdown",
   "metadata": {},
   "source": [
    "A p-value of 0 is less than α=0.05, so we reject the null hypothesis and conclude that there is a statistically significant difference between the mean of selected indexes of the two experiments."
   ]
  },
  {
   "cell_type": "code",
   "execution_count": 87,
   "metadata": {},
   "outputs": [
    {
     "name": "stdout",
     "output_type": "stream",
     "text": [
      "Group zero mean: 6.44 median: 5.0\n",
      "Group one mean: 5.33 median: 4.0\n"
     ]
    }
   ],
   "source": [
    "print(f\"Group zero mean: {round(data_plot0['selectedIndexes']['sum'].mean().item(), 2)} median: {round(data_plot0['selectedIndexes']['sum'].median().item(), 2)}\")\n",
    "print(f\"Group one mean: {round(data_plot1['selectedIndexes']['sum'].mean().item(), 2)} median: {round(data_plot1['selectedIndexes']['sum'].median().item(), 2)}\")"
   ]
  },
  {
   "cell_type": "markdown",
   "metadata": {},
   "source": [
    "Experiment group one seems to have better results"
   ]
  },
  {
   "cell_type": "markdown",
   "metadata": {},
   "source": [
    "#### Time spent mean test\n",
    "\n",
    "We want to minimize the time spent searching for results, aiming to reduce the interval between the start and end of the search."
   ]
  },
  {
   "cell_type": "markdown",
   "metadata": {},
   "source": [
    "Null Hypothesis (H0): There is no difference in time spent means between the two experiment groups (𝜇1 = 𝜇2)\n",
    "\n",
    "Alternative Hypothesis (Ha): There is a difference in time spent means between the two experiment groups (𝜇1 != 𝜇2)\n",
    "\n",
    "significance level α=0.05"
   ]
  },
  {
   "cell_type": "code",
   "execution_count": 86,
   "metadata": {},
   "outputs": [
    {
     "name": "stdout",
     "output_type": "stream",
     "text": [
      "P-value is equal to 0.876\n"
     ]
    }
   ],
   "source": [
    "t_stat, p_value = stats.ttest_ind(data_plot0['time_spent'], data_plot1['time_spent'])\n",
    "print(f\"P-value is equal to {round(p_value, 3)}\")"
   ]
  },
  {
   "cell_type": "markdown",
   "metadata": {},
   "source": [
    "A p-value of 0.876 is greater than α=0.05, so we cannot reject null hypothesis -> there is no evidence to suggest that the two groups have different time spent means"
   ]
  },
  {
   "cell_type": "markdown",
   "metadata": {},
   "source": [
    "### No result found\n",
    "\n",
    "The percentage of unsuccessful searches (searches that ended without any index selection)"
   ]
  },
  {
   "cell_type": "code",
   "execution_count": 44,
   "metadata": {},
   "outputs": [
    {
     "name": "stdout",
     "output_type": "stream",
     "text": [
      "42.66 % from experiment group zero left the search bar without founding the result.\n"
     ]
    }
   ],
   "source": [
    "not_found0 = group0_grouped[group0_grouped['selectedIndexes']['sum'] == 100]\n",
    "group0_not_found = round((not_found0.shape[0]/group0_grouped.shape[0])*100, 2)\n",
    "print(f\"{group0_not_found} % from experiment group zero left the search bar without founding the result.\")"
   ]
  },
  {
   "cell_type": "code",
   "execution_count": 45,
   "metadata": {},
   "outputs": [
    {
     "name": "stdout",
     "output_type": "stream",
     "text": [
      "43.56 % from experiment group one left the search bar without founding the result.\n"
     ]
    }
   ],
   "source": [
    "not_found1 = group1_grouped[group1_grouped['selectedIndexes']['sum'] == 100]\n",
    "group1_not_found = round((not_found1.shape[0]/group1_grouped.shape[0])*100, 2)\n",
    "print(f\"{group1_not_found} % from experiment group one left the search bar without founding the result.\")"
   ]
  },
  {
   "cell_type": "markdown",
   "metadata": {},
   "source": [
    "Here experiment group zero has slightly better result."
   ]
  }
 ],
 "metadata": {
  "kernelspec": {
   "display_name": "code",
   "language": "python",
   "name": "python3"
  },
  "language_info": {
   "codemirror_mode": {
    "name": "ipython",
    "version": 3
   },
   "file_extension": ".py",
   "mimetype": "text/x-python",
   "name": "python",
   "nbconvert_exporter": "python",
   "pygments_lexer": "ipython3",
   "version": "3.9.20"
  }
 },
 "nbformat": 4,
 "nbformat_minor": 2
}
